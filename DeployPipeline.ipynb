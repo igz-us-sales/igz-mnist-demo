{
 "cells": [
  {
   "cell_type": "markdown",
   "metadata": {},
   "source": [
    "### Setup MLRun Project"
   ]
  },
  {
   "cell_type": "code",
   "execution_count": 17,
   "metadata": {},
   "outputs": [
    {
     "name": "stdout",
     "output_type": "stream",
     "text": [
      "Project name: igz-mnist-demo\n",
      "Project path: /User/igz_repos/igz-mnist-demo/project\n",
      "Artifacts path: /User/artifacts/{{run.project}}/{{workflow.uid}}\n",
      "MLRun DB path: http://mlrun-api:8080\n"
     ]
    }
   ],
   "source": [
    "from os import path\n",
    "from mlrun import set_environment, new_project, mlconf\n",
    "\n",
    "# Set the default environment configuration\n",
    "project_name_base = \"igz-mnist-demo\"\n",
    "project_name, artifact_path = set_environment(project=project_name_base,\n",
    "                                              artifact_path=\"/User/artifacts/{{run.project}}/{{workflow.uid}}\")\n",
    "\n",
    "# Create project\n",
    "project_path = path.abspath(\"project\")\n",
    "project = new_project(name=project_name, context=project_path)\n",
    "\n",
    "print(f\"Project name: {project_name}\\nProject path: {project_path}\")\n",
    "print(f\"Artifacts path: {artifact_path}\\nMLRun DB path: {mlconf.dbpath}\")"
   ]
  },
  {
   "cell_type": "markdown",
   "metadata": {},
   "source": [
    "### Build Docker Image"
   ]
  },
  {
   "cell_type": "code",
   "execution_count": 18,
   "metadata": {},
   "outputs": [],
   "source": [
    "image = \"mlrun/ml-models\""
   ]
  },
  {
   "cell_type": "code",
   "execution_count": 19,
   "metadata": {},
   "outputs": [],
   "source": [
    "# # Build Docker Image (only needs to be run once)\n",
    "# from mlrun import new_function\n",
    "\n",
    "# build_image = new_function(name=\"build-image\", kind=\"job\")\n",
    "# build_image.build_config(\n",
    "#     image=image,\n",
    "#     base_image=\"mlrun/ml-models\",\n",
    "#     commands=[\"pip install storey\"]\n",
    "# )\n",
    "# build_image.deploy(with_mlrun=False)"
   ]
  },
  {
   "cell_type": "code",
   "execution_count": 20,
   "metadata": {},
   "outputs": [
    {
     "data": {
      "text/plain": [
       "'mlrun/ml-models'"
      ]
     },
     "execution_count": 20,
     "metadata": {},
     "output_type": "execute_result"
    }
   ],
   "source": [
    "image"
   ]
  },
  {
   "cell_type": "markdown",
   "metadata": {},
   "source": [
    "### Import Functions"
   ]
  },
  {
   "cell_type": "code",
   "execution_count": 21,
   "metadata": {},
   "outputs": [
    {
     "data": {
      "text/plain": [
       "<mlrun.runtimes.serving.ServingRuntime at 0x7fb55725e110>"
      ]
     },
     "execution_count": 21,
     "metadata": {},
     "output_type": "execute_result"
    }
   ],
   "source": [
    "project.set_function(func=\"components/get_prep_data.py\",\n",
    "                     name=\"get-prep-data\",\n",
    "                     kind=\"job\",\n",
    "                     image=image)\n",
    "project.set_function(func=\"components/train_eval_model.py\",\n",
    "                     name=\"train-eval-model\",\n",
    "                     kind=\"job\",\n",
    "                     image=image)\n",
    "project.set_function(func=\"components/deploy_model.py\",\n",
    "                     name=\"deploy-model\",\n",
    "                     kind=\"serving\",\n",
    "                     image=image)"
   ]
  },
  {
   "cell_type": "markdown",
   "metadata": {},
   "source": [
    "### Pipeline"
   ]
  },
  {
   "cell_type": "code",
   "execution_count": 22,
   "metadata": {},
   "outputs": [
    {
     "name": "stdout",
     "output_type": "stream",
     "text": [
      "Overwriting /User/igz_repos/igz-mnist-demo/project/pipeline.py\n"
     ]
    }
   ],
   "source": [
    "%%writefile {path.join(project_path, 'pipeline.py')}\n",
    "\n",
    "import os\n",
    "from kfp import dsl\n",
    "from mlrun import mount_v3io, NewTask\n",
    "import yaml\n",
    "import nuclio\n",
    "\n",
    "funcs = {}\n",
    "\n",
    "# Configure function resources and local settings\n",
    "def init_functions(functions: dict, project=None, secrets=None):\n",
    "    for fn in functions.values():\n",
    "        # Mount V3IO filesystem\n",
    "        fn.apply(mount_v3io())\n",
    "\n",
    "    functions[\"deploy-model\"].spec.base_spec['spec']['loggerSinks'] = [{'level': 'info'}]\n",
    "    functions[\"deploy-model\"].spec.min_replicas = 1\n",
    "    functions[\"deploy-model\"].spec.max_replicas = 1\n",
    "    functions[\"deploy-model\"].spec.default_class = 'MNISTModel'\n",
    "\n",
    "# Create a Kubeflow Pipelines pipeline\n",
    "@dsl.pipeline(\n",
    "    name=\"MNIST Digit Classification Pipeline\",\n",
    "    description=\"Kubeflow Pipeline Demo to classify Handwritten Digits\"\n",
    ")\n",
    "def kfpipeline(batch_size:int=128,\n",
    "               num_classes:int=10,\n",
    "               epochs:int=5,\n",
    "               debug_logs:bool=True):    \n",
    "    \n",
    "    # Get data from feature store, prep, train/test split\n",
    "    get_prep_data = funcs['get-prep-data'].as_step(\n",
    "        handler=\"handler\",\n",
    "        outputs=[\"X_train\", \"X_test\", \"y_train\", \"y_test\"],\n",
    "        verbose=debug_logs)\n",
    "    \n",
    "    # Train/evaluate model\n",
    "    train = funcs['train-eval-model'].as_step(\n",
    "        handler=\"handler\",\n",
    "        inputs={\"X_train\" : get_prep_data.outputs['X_train'],\n",
    "                \"X_test\" : get_prep_data.outputs['X_test'],\n",
    "                \"y_train\" : get_prep_data.outputs['y_train'],\n",
    "                \"y_test\" : get_prep_data.outputs['y_test']},\n",
    "        params={\"batch_size\" : batch_size,\n",
    "                \"num_classes\" : num_classes,\n",
    "                \"epochs\" : epochs},\n",
    "        outputs=[\"model\"],\n",
    "        verbose=debug_logs)\n",
    "    \n",
    "    # Deploy model\n",
    "    deploy = funcs[\"deploy-model\"].deploy_step(models=[{\"key\": \"model\",\n",
    "                                                        \"model_path\": train.outputs['model']}])"
   ]
  },
  {
   "cell_type": "markdown",
   "metadata": {},
   "source": [
    "### Save Pipeline"
   ]
  },
  {
   "cell_type": "code",
   "execution_count": 23,
   "metadata": {},
   "outputs": [],
   "source": [
    "project.set_workflow(\"main\", \"pipeline.py\")\n",
    "project.save()"
   ]
  },
  {
   "cell_type": "markdown",
   "metadata": {},
   "source": [
    "### Pipeline"
   ]
  },
  {
   "cell_type": "code",
   "execution_count": 11,
   "metadata": {},
   "outputs": [
    {
     "data": {
      "text/html": [
       "Experiment link <a href=\"https://dashboard.default-tenant.app.us-sales-fs.iguazio-cd0.com/pipelines/#/experiments/details/31c009db-4e4a-400c-b3a5-364754eb6633\" target=\"_blank\" >here</a>"
      ],
      "text/plain": [
       "<IPython.core.display.HTML object>"
      ]
     },
     "metadata": {},
     "output_type": "display_data"
    },
    {
     "data": {
      "text/html": [
       "Run link <a href=\"https://dashboard.default-tenant.app.us-sales-fs.iguazio-cd0.com/pipelines/#/runs/details/ee1252fe-3072-489e-94d8-60bd2aed22bc\" target=\"_blank\" >here</a>"
      ],
      "text/plain": [
       "<IPython.core.display.HTML object>"
      ]
     },
     "metadata": {},
     "output_type": "display_data"
    },
    {
     "name": "stdout",
     "output_type": "stream",
     "text": [
      "> 2021-03-08 17:49:20,235 [info] Pipeline run id=ee1252fe-3072-489e-94d8-60bd2aed22bc, check UI or DB for progress\n"
     ]
    }
   ],
   "source": [
    "run_id = project.run(\"main\", arguments={}, artifact_path=artifact_path, dirty=True)"
   ]
  },
  {
   "cell_type": "markdown",
   "metadata": {},
   "source": [
    "### Inference Model"
   ]
  },
  {
   "cell_type": "code",
   "execution_count": 29,
   "metadata": {},
   "outputs": [
    {
     "data": {
      "text/plain": [
       "'http://nuclio-igz-mnist-demo-deploy-model:8080/v2/models/model/predict'"
      ]
     },
     "execution_count": 29,
     "metadata": {},
     "output_type": "execute_result"
    }
   ],
   "source": [
    "import json\n",
    "import requests\n",
    "import numpy as np\n",
    "\n",
    "addr = 'http://nuclio-{}-{}:8080'.format(project.name, project.func('deploy-model').metadata.name)\n",
    "addr += \"/v2/models/model/predict\"\n",
    "addr"
   ]
  },
  {
   "cell_type": "code",
   "execution_count": 30,
   "metadata": {},
   "outputs": [
    {
     "data": {
      "image/png": "[encoded data removed]",
      "text/plain": [
       "<PIL.Image.Image image mode=L size=28x28 at 0x7FB4852248D0>"
      ]
     },
     "execution_count": 30,
     "metadata": {},
     "output_type": "execute_result"
    }
   ],
   "source": [
    "import os\n",
    "import sys\n",
    "import base64\n",
    "from io import BytesIO\n",
    "from PIL import Image\n",
    "import json\n",
    "from tensorflow.keras.datasets import mnist\n",
    "\n",
    "def encode_image(img):\n",
    "    im_file = BytesIO()\n",
    "    img.save(im_file, format=\"JPEG\")\n",
    "    im_bytes = im_file.getvalue()\n",
    "    im_b64 = base64.b64encode(im_bytes)\n",
    "    return im_b64.decode(\"utf-8\")\n",
    "\n",
    "(X_train, y_train), (X_test, y_test) = mnist.load_data()\n",
    "img = Image.fromarray(X_test[2])\n",
    "img"
   ]
  },
  {
   "cell_type": "code",
   "execution_count": 31,
   "metadata": {},
   "outputs": [
    {
     "data": {
      "text/plain": [
       "'{\"inputs\": [\"/9j/4AAQSkZJRgABAQAAAQABAAD/2wBDAAgGBgcGBQgHBwcJCQgKDBQNDAsLDBkSEw8UHRofHh0aHBwgJC4nICIsIxwcKDcpLDAxNDQ0Hyc5PTgyPC4zNDL/wAALCAAcABwBAREA/8QAHwAAAQUBAQEBAQEAAAAAAAAAAAECAwQFBgcICQoL/8QAtRAAAgEDAwIEAwUFBAQAAAF9AQIDAAQRBRIhMUEGE1FhByJxFDKBkaEII0KxwRVS0fAkM2JyggkKFhcYGRolJicoKSo0NTY3ODk6Q0RFRkdISUpTVFVWV1hZWmNkZWZnaGlqc3R1dnd4eXqDhIWGh4iJipKTlJWWl5iZmqKjpKWmp6ipqrKztLW2t7i5usLDxMXGx8jJytLT1NXW19jZ2uHi4+Tl5ufo6erx8vP09fb3+Pn6/9oACAEBAAA/APn+lALEAAkngAd62PFGgjw1rR0trrz5o4Ynn/d7PLkZAzR9TnbnGfboKxqK634a6PHrPjrT1uAhs7Mm9ut/TyovmOfrgD8awte1M614h1LVCGX7ZcyThWOSoZiQM+2cVn0V6J4RFvo/wu8X63NKi3F6qaVarxuYsQ0nvjaR+XevO6KKKKK//9k=\"]}'"
      ]
     },
     "execution_count": 31,
     "metadata": {},
     "output_type": "execute_result"
    }
   ],
   "source": [
    "payload = json.dumps({\"inputs\" : [encode_image(img)]})\n",
    "payload"
   ]
  },
  {
   "cell_type": "code",
   "execution_count": 32,
   "metadata": {},
   "outputs": [],
   "source": [
    "response = requests.post(addr, json=payload)\n",
    "predictions = response.json()"
   ]
  },
  {
   "cell_type": "code",
   "execution_count": 33,
   "metadata": {},
   "outputs": [
    {
     "name": "stdout",
     "output_type": "stream",
     "text": [
      "Predicted the digit 1 with 0.11261995136737823 accuracy.\n"
     ]
    }
   ],
   "source": [
    "digit, acc = predictions['outputs']\n",
    "print(f\"Predicted the digit {digit} with {acc} accuracy.\")"
   ]
  },
  {
   "cell_type": "code",
   "execution_count": null,
   "metadata": {},
   "outputs": [],
   "source": []
  }
 ],
 "metadata": {
  "kernelspec": {
   "display_name": "Python [conda env:root] *",
   "language": "python",
   "name": "conda-root-py"
  },
  "language_info": {
   "codemirror_mode": {
    "name": "ipython",
    "version": 3
   },
   "file_extension": ".py",
   "mimetype": "text/x-python",
   "name": "python",
   "nbconvert_exporter": "python",
   "pygments_lexer": "ipython3",
   "version": "3.7.6"
  }
 },
 "nbformat": 4,
 "nbformat_minor": 4
}
